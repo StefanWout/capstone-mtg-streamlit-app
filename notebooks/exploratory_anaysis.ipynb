{
 "cells": [
  {
   "cell_type": "code",
   "execution_count": null,
   "id": "c28970f1",
   "metadata": {},
   "outputs": [
    {
     "name": "stderr",
     "output_type": "stream",
     "text": [
      "C:\\Users\\stefa\\AppData\\Local\\Temp\\ipykernel_2536\\2047614266.py:7: DtypeWarning: Columns (3,7,12,16,20,23,25,26,31,33,34,36,38,40,41,42,48,53,54,62,63,67,69) have mixed types. Specify dtype option on import or set low_memory=False.\n",
      "  df = pd.read_csv(r\"C:\\Users\\stefa\\Documents\\Digital Futures\\capstone-mtg-streamlit-app\\data\\cards.csv\")\n"
     ]
    },
    {
     "data": {
      "text/html": [
       "<div>\n",
       "<style scoped>\n",
       "    .dataframe tbody tr th:only-of-type {\n",
       "        vertical-align: middle;\n",
       "    }\n",
       "\n",
       "    .dataframe tbody tr th {\n",
       "        vertical-align: top;\n",
       "    }\n",
       "\n",
       "    .dataframe thead th {\n",
       "        text-align: right;\n",
       "    }\n",
       "</style>\n",
       "<table border=\"1\" class=\"dataframe\">\n",
       "  <thead>\n",
       "    <tr style=\"text-align: right;\">\n",
       "      <th></th>\n",
       "      <th>artist</th>\n",
       "      <th>artistIds</th>\n",
       "      <th>asciiName</th>\n",
       "      <th>attractionLights</th>\n",
       "      <th>availability</th>\n",
       "      <th>boosterTypes</th>\n",
       "      <th>borderColor</th>\n",
       "      <th>cardParts</th>\n",
       "      <th>colorIdentity</th>\n",
       "      <th>colorIndicator</th>\n",
       "      <th>...</th>\n",
       "      <th>subsets</th>\n",
       "      <th>subtypes</th>\n",
       "      <th>supertypes</th>\n",
       "      <th>text</th>\n",
       "      <th>toughness</th>\n",
       "      <th>type</th>\n",
       "      <th>types</th>\n",
       "      <th>uuid</th>\n",
       "      <th>variations</th>\n",
       "      <th>watermark</th>\n",
       "    </tr>\n",
       "  </thead>\n",
       "  <tbody>\n",
       "  </tbody>\n",
       "</table>\n",
       "<p>0 rows × 79 columns</p>\n",
       "</div>"
      ],
      "text/plain": [
       "Empty DataFrame\n",
       "Columns: [artist, artistIds, asciiName, attractionLights, availability, boosterTypes, borderColor, cardParts, colorIdentity, colorIndicator, colors, defense, duelDeck, edhrecRank, edhrecSaltiness, faceConvertedManaCost, faceFlavorName, faceManaValue, faceName, finishes, flavorName, flavorText, frameEffects, frameVersion, hand, hasAlternativeDeckLimit, hasContentWarning, hasFoil, hasNonFoil, isAlternative, isFullArt, isFunny, isGameChanger, isOnlineOnly, isOversized, isPromo, isRebalanced, isReprint, isReserved, isStarter, isStorySpotlight, isTextless, isTimeshifted, keywords, language, layout, leadershipSkills, life, loyalty, manaCost, manaValue, name, number, originalPrintings, originalReleaseDate, originalText, originalType, otherFaceIds, power, printings, promoTypes, rarity, rebalancedPrintings, relatedCards, securityStamp, setCode, side, signature, sourceProducts, subsets, subtypes, supertypes, text, toughness, type, types, uuid, variations, watermark]\n",
       "Index: []\n",
       "\n",
       "[0 rows x 79 columns]"
      ]
     },
     "execution_count": 24,
     "metadata": {},
     "output_type": "execute_result"
    }
   ],
   "source": [
    "import os\n",
    "import pandas as pd\n",
    "from sqlalchemy import create_engine\n",
    "from dotenv import load_dotenv\n",
    "\n",
    "\n",
    "df = pd.read_csv(r\"C:\\Users\\stefa\\Documents\\Digital Futures\\capstone-mtg-streamlit-app\\data\\cards.csv\")\n",
    "\n",
    "# Find rows where the 'number' column contains a '★'\n",
    "star_rows = df[df['number'].str.contains('★', na=False)]\n",
    "\n",
    "isfunny = df[df['isFunny'] == True]\n",
    "\n",
    "# Display the rows\n",
    "isfunny = isfunny[['name', 'number', 'isFunny']]\n",
    "\n",
    "typelineunique = len(df['type'].unique())\n",
    "\n",
    "types_to_exclude = r'Creature|Artifact|Land|Instant|Sorcery|Enchantment|Planeswalker|Summon|Plane|Battle|Vanguard|Conspiracy|Double-Faced|Transform|Saga|Artifact Creature|Legendary Creature|Legendary Artifact Creature|Legendary Artifact|Legendary Enchantment Creature|Legendary Enchantment|Legendary Land|Legendary Planeswalker|Scheme|'\n",
    "\n",
    "# Filter the DataFrame to exclude rows with the specified types\n",
    "filtered_df = df[~df['type'].str.contains(types_to_exclude, na=False)]\n",
    "\n",
    "# Display the filtered DataFrame\n",
    "filtered_df.head()"
   ]
  },
  {
   "cell_type": "code",
   "execution_count": null,
   "id": "121d8a86",
   "metadata": {},
   "outputs": [],
   "source": [
    "import os\n",
    "import pandas as pd\n",
    "from sqlalchemy import create_engine\n",
    "from dotenv import load_dotenv\n",
    "\n",
    "# Load environment variables\n",
    "load_dotenv(dotenv_path=\"c:/Users/stefa/Documents/Digital Futures/capstone-mtg-streamlit-app/env.dev\")\n",
    "\n",
    "# Database connection details\n",
    "DB_NAME = os.getenv(\"TARGET_DB_NAME\")\n",
    "DB_USER = os.getenv(\"TARGET_DB_USER\")\n",
    "DB_PASSWORD = os.getenv(\"TARGET_DB_PASSWORD\")\n",
    "DB_HOST = os.getenv(\"TARGET_DB_HOST\")\n",
    "DB_PORT = os.getenv(\"TARGET_DB_PORT\")\n",
    "\n",
    "# Create a database connection\n",
    "connection_string = f\"postgresql://{DB_USER}:{DB_PASSWORD}@{DB_HOST}:{DB_PORT}/{DB_NAME}\"\n",
    "engine = create_engine(connection_string)\n",
    "\n",
    "# Query the database\n",
    "query = \"SELECT name, number FROM cards;\"\n",
    "df = pd.read_sql(query, engine)\n",
    "\n",
    "# Display the data\n",
    "df.head()"
   ]
  }
 ],
 "metadata": {
  "kernelspec": {
   "display_name": ".venv",
   "language": "python",
   "name": "python3"
  },
  "language_info": {
   "codemirror_mode": {
    "name": "ipython",
    "version": 3
   },
   "file_extension": ".py",
   "mimetype": "text/x-python",
   "name": "python",
   "nbconvert_exporter": "python",
   "pygments_lexer": "ipython3",
   "version": "3.12.4"
  }
 },
 "nbformat": 4,
 "nbformat_minor": 5
}
