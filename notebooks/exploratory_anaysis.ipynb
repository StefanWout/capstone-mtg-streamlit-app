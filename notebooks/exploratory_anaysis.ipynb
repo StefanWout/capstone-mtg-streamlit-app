{
 "cells": [
  {
   "cell_type": "code",
   "execution_count": 35,
   "id": "c28970f1",
   "metadata": {},
   "outputs": [
    {
     "name": "stderr",
     "output_type": "stream",
     "text": [
      "C:\\Users\\stefa\\AppData\\Local\\Temp\\ipykernel_21140\\1942311431.py:5: DtypeWarning: Columns (3,7,12,16,20,23,25,26,31,33,34,36,38,40,41,42,48,53,54,62,63,67,69) have mixed types. Specify dtype option on import or set low_memory=False.\n",
      "  df = pd.read_csv(r\"C:\\Users\\stefa\\Documents\\Digital Futures\\capstone-mtg-streamlit-app\\data\\cards.csv\")\n"
     ]
    },
    {
     "name": "stdout",
     "output_type": "stream",
     "text": [
      "Number of rows in the DataFrame: 103103\n",
      "Number of unique rules: 29879\n",
      "Number of unique names: 31582\n",
      "Number of rows with a supertype value that is not 'Legendary': 4769\n",
      "Number of rows with isFunny value: 1788\n"
     ]
    }
   ],
   "source": [
    "import os\n",
    "import pandas as pd\n",
    "\n",
    "\n",
    "df = pd.read_csv(r\"C:\\Users\\stefa\\Documents\\Digital Futures\\capstone-mtg-streamlit-app\\data\\cards.csv\")\n",
    "\n",
    "# star_rows = df[df['number'].str.contains('★', na=False)]\n",
    "\n",
    "# isfunny = df[df['isFunny'] == True]\n",
    "\n",
    "# isfunny = isfunny[['name', 'number', 'isFunny']]\n",
    "\n",
    "# typelineunique = len(df['type'].unique())\n",
    "\n",
    "# types_to_exclude = r'Creature|Artifact|Land|Instant|Sorcery|Enchantment|Planeswalker|Summon|Plane|Battle|Vanguard|Conspiracy|Double-Faced|Transform|Saga|Artifact Creature|Legendary Creature|Legendary Artifact Creature|Legendary Artifact|Legendary Enchantment Creature|Legendary Enchantment|Legendary Land|Legendary Planeswalker|Scheme|'\n",
    "\n",
    "# filtered_df = df[~df['type'].str.contains(types_to_exclude, na=False)]\n",
    "\n",
    "unique_rules_count = df['text'].nunique()\n",
    "unique_name_count = df['name'].nunique()\n",
    "row_count = len(df) \n",
    "non_legendary_supertypes_count = df[df['supertypes'].notnull() & ~df['supertypes'].str.contains('Legendary', na=False)].shape[0]\n",
    "unset_rows = df['isFunny'].notnull().sum()\n",
    "\n",
    "print(f\"Number of rows in the DataFrame: {row_count}\")\n",
    "print(f\"Number of unique rules: {unique_rules_count}\")\n",
    "print(f\"Number of unique names: {unique_name_count}\")\n",
    "print(f\"Number of rows with a supertype value that is not 'Legendary': {non_legendary_supertypes_count}\")\n",
    "print(f\"Number of rows with isFunny value: {unset_rows}\")\n"
   ]
  },
  {
   "cell_type": "code",
   "execution_count": 40,
   "id": "121d8a86",
   "metadata": {},
   "outputs": [
    {
     "name": "stdout",
     "output_type": "stream",
     "text": [
      "Number of rows in the DataFrame: 29375\n",
      "Number of unique rules: 26983\n",
      "Number of unique names: 28680\n"
     ]
    }
   ],
   "source": [
    "import os\n",
    "import pandas as pd\n",
    "\n",
    "cleandf = pd.read_csv(r\"C:\\Users\\stefa\\Documents\\Digital Futures\\capstone-mtg-streamlit-app\\data\\cleaned_cards.csv\")\n",
    "\n",
    "# columns_to_search = [col for col in cleandf.columns if col not in ['text', 'originalText']]\n",
    "\n",
    "# token_rows = cleandf[cleandf[columns_to_search].apply(lambda row: row.astype(str).str.contains('token', case=False, na=False).any(), axis=1)]\n",
    "\n",
    "# cleandf['printings_count'] = cleandf['printings'].apply(lambda x: len(str(x).split(',')) if pd.notnull(x) else 0)\n",
    "\n",
    "# longest_printings_card = cleandf.loc[cleandf['printings_count'].idxmax()]\n",
    "\n",
    "# print(longest_printings_card)\n",
    "\n",
    "duplicates = cleandf[cleandf['name'].duplicated(keep=False)]\n",
    "\n",
    "unique_rules_count = cleandf['text'].nunique()\n",
    "unique_name_count = cleandf['name'].nunique()\n",
    "row_count = len(cleandf) \n",
    "\n",
    "\n",
    "print(f\"Number of rows in the DataFrame: {row_count}\")\n",
    "print(f\"Number of unique rules: {unique_rules_count}\")\n",
    "print(f\"Number of unique names: {unique_name_count}\")\n",
    "\n"
   ]
  },
  {
   "cell_type": "code",
   "execution_count": 41,
   "id": "d18f3acc",
   "metadata": {},
   "outputs": [
    {
     "name": "stdout",
     "output_type": "stream",
     "text": [
      "['10E' ' JUD' ' UMA' ... 'ZEN' 'ZNC' 'ZNR']\n"
     ]
    }
   ],
   "source": [
    "unique_printings = pd.Series(cleandf['printings'].str.split(',').sum()).unique()\n",
    "\n",
    "# Display the unique values\n",
    "print(unique_printings)"
   ]
  },
  {
   "cell_type": "code",
   "execution_count": 42,
   "id": "8e5ce133",
   "metadata": {},
   "outputs": [
    {
     "name": "stdout",
     "output_type": "stream",
     "text": [
      "Number of rows: 29375\n"
     ]
    }
   ],
   "source": [
    "num_rows = len(cleandf)\n",
    "\n",
    "print(f\"Number of rows: {num_rows}\")"
   ]
  }
 ],
 "metadata": {
  "kernelspec": {
   "display_name": ".venv",
   "language": "python",
   "name": "python3"
  },
  "language_info": {
   "codemirror_mode": {
    "name": "ipython",
    "version": 3
   },
   "file_extension": ".py",
   "mimetype": "text/x-python",
   "name": "python",
   "nbconvert_exporter": "python",
   "pygments_lexer": "ipython3",
   "version": "3.12.4"
  }
 },
 "nbformat": 4,
 "nbformat_minor": 5
}
